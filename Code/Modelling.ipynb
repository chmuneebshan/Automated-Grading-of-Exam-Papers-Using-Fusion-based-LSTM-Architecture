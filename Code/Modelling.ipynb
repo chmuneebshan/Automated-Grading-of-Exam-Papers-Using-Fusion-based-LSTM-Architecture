{
  "cells": [
    {
      "cell_type": "markdown",
      "id": "b5069e5e",
      "metadata": {
        "id": "b5069e5e"
      },
      "source": [
        "# 0) Loading Modules & Data"
      ]
    },
    {
      "cell_type": "code",
      "execution_count": null,
      "id": "25baf47c",
      "metadata": {
        "id": "25baf47c"
      },
      "outputs": [],
      "source": [
        "import numpy as np\n",
        "import pandas as pd\n",
        "from tensorflow.keras.models import Model\n",
        "from sklearn.model_selection import train_test_split\n",
        "from keras.preprocessing.sequence import pad_sequences\n",
        "from tensorflow.keras.layers import Input, Dense, LSTM, concatenate, Bidirectional\n",
        "from tensorflow.keras.layers import Conv1D, MaxPooling1D, Flatten, Embedding, Dropout\n",
        "from keras.utils import to_categorical"
      ]
    },
    {
      "cell_type": "code",
      "execution_count": null,
      "id": "dPKNzLMpXGYs",
      "metadata": {
        "colab": {
          "base_uri": "https://localhost:8080/"
        },
        "id": "dPKNzLMpXGYs",
        "outputId": "78128d08-5cbd-442f-a48d-09259243f47d"
      },
      "outputs": [
        {
          "name": "stdout",
          "output_type": "stream",
          "text": [
            "Mounted at /content/drive\n"
          ]
        }
      ],
      "source": [
        "# from google.colab import drive\n",
        "# drive.mount('/content/drive')"
      ]
    },
    {
      "cell_type": "code",
      "execution_count": null,
      "id": "DqsHLv4wXYGM",
      "metadata": {
        "id": "DqsHLv4wXYGM"
      },
      "outputs": [],
      "source": [
        "import os\n",
        "os.chdir(\"/content/drive/MyDrive/FYP\")"
      ]
    },
    {
      "cell_type": "code",
      "execution_count": null,
      "id": "50337db6",
      "metadata": {
        "id": "50337db6"
      },
      "outputs": [],
      "source": [
        "# Loading feature files\n",
        "vocab_level_features_df = pd.read_csv(\"../Data/Features/vocab_level_features_df.csv\")\n",
        "readability_features_df = pd.read_csv(\"../Data/Features/readability_features_df.csv\")\n",
        "sentence_vectors = np.load('../Data/Features/sentence_vectors_representation.npy', allow_pickle=True)\n",
        "chapter_level_features_df = pd.read_csv(\"../Data/Features/chapter_level_features_df.csv\")\n",
        "final_train_data = pd.read_csv(\"../data/Processed/final_train_data.csv\")"
      ]
    },
    {
      "cell_type": "code",
      "execution_count": null,
      "id": "1d6c8036",
      "metadata": {
        "id": "1d6c8036"
      },
      "outputs": [],
      "source": [
        "# Adding Essay Set to Vocab\n",
        "vocab_level_features_df[\"essay_set\"] = final_train_data[\"essay_set\"]\n",
        "\n",
        "# NUmber of Classes\n",
        "num_classes = final_train_data.domain1_score.nunique()"
      ]
    }
  ],
  "metadata": {
    "accelerator": "GPU",
    "colab": {
      "gpuType": "T4",
      "provenance": []
    },
    "kernelspec": {
      "display_name": "Python [conda env:Orange]",
      "language": "python",
      "name": "conda-env-Orange-py"
    },
    "language_info": {
      "codemirror_mode": {
        "name": "ipython",
        "version": 3
      },
      "file_extension": ".py",
      "mimetype": "text/x-python",
      "name": "python",
      "nbconvert_exporter": "python",
      "pygments_lexer": "ipython3",
      "version": "3.11.8"
    }
  },
  "nbformat": 4,
  "nbformat_minor": 5
}